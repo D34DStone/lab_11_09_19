{
 "cells": [
  {
   "cell_type": "code",
   "execution_count": null,
   "metadata": {},
   "outputs": [],
   "source": [
    "from PIL import Image\n",
    "import numpy as np\n",
    "from matplotlib import pyplot\n",
    "from random import choice\n",
    "img = Image.open('resources/hexagon_maze.bmp')\n",
    "pixels = np.array(img)\n",
    "a = [0, 0]\n",
    "\n",
    "field = np.array([[(1 if (pixels[i][j] == [255, 255, 255]).all() else 0) for i in range(600)] for j in range(600)])\n",
    "for i in range(600):\n",
    "    for j in range(600):\n",
    "        a[field[i][j]] += 1\n",
    "       \n",
    "start_position = (300, 300)\n",
    "position = np.array([300, 300])\n",
    "ox = []\n",
    "oy = []\n",
    "\n",
    "for i in range(10000):\n",
    "    v = [\n",
    "        np.array([1, 0]),\n",
    "        np.array([0, 1]),\n",
    "        np.array([-1, 0]),\n",
    "        np.array([0, -1])\n",
    "    ]\n",
    "    \n",
    "    possible_ways = []\n",
    "    for vector in v:\n",
    "        try:\n",
    "            if (field[position[0] + vector[0]][position[1] + vector[1]] == 1).all():\n",
    "                possible_ways.append(position + vector)\n",
    "                \n",
    "        except IndexError:\n",
    "            continue\n",
    "            \n",
    "    if not possible_ways:\n",
    "        continue\n",
    "        \n",
    "    position = choice(np.array(possible_ways))\n",
    "    ox.append(i)\n",
    "    oy.append((position[0] - start_position[0]) ** 2 + (position[1] - start_position[1]) ** 2)\n",
    "    \n",
    "pyplot.plot(ox, oy)\n",
    "pyplot.show()"
   ]
  },
  {
   "cell_type": "code",
   "execution_count": null,
   "metadata": {},
   "outputs": [],
   "source": []
  }
 ],
 "metadata": {
  "kernelspec": {
   "display_name": "Python 3",
   "language": "python",
   "name": "python3"
  },
  "language_info": {
   "codemirror_mode": {
    "name": "ipython",
    "version": 3
   },
   "file_extension": ".py",
   "mimetype": "text/x-python",
   "name": "python",
   "nbconvert_exporter": "python",
   "pygments_lexer": "ipython3",
   "version": "3.7.3"
  }
 },
 "nbformat": 4,
 "nbformat_minor": 2
}
