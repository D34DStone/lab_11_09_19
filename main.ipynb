{
 "cells": [
  {
   "cell_type": "markdown",
   "metadata": {},
   "source": [
    "### Программа для занятий по информатике\n",
    "\n",
    "Необходимые библиотеки: Pillow, numpy, matplotlib\n",
    "\n",
    "Давайте реализуем считывание .bmp файла и преобразование его в numpy-массив:"
   ]
  },
  {
   "cell_type": "code",
   "execution_count": 110,
   "metadata": {},
   "outputs": [],
   "source": [
    "from PIL import Image\n",
    "import numpy as np\n",
    "\n",
    "def bmp_to_array(path: str):\n",
    "    img = Image.open(path)\n",
    "    width, height = img.size\n",
    "    pixels = np.array(img)\n",
    "    return np.array([[\n",
    "            (1 if (pixels[i][j] == [255, 255, 255]).all() else 0)\n",
    "            for i in range(height)]\n",
    "            for j in range(width)]), width, height"
   ]
  },
  {
   "cell_type": "markdown",
   "metadata": {},
   "source": [
    "Функция, которая выбирает случайную доступную клетку:"
   ]
  },
  {
   "cell_type": "code",
   "execution_count": 116,
   "metadata": {},
   "outputs": [],
   "source": [
    "def get_available_cell(field, width: int, height: int):\n",
    "    available_cells = []\n",
    "    for i in range(width):\n",
    "        for j in range(height):\n",
    "            if field[i][j] == 1:\n",
    "                available_cells.append([i, j])\n",
    "        \n",
    "    return np.array(choice(available_cells))"
   ]
  },
  {
   "cell_type": "markdown",
   "metadata": {},
   "source": [
    "Функция, которая возвращает numpy-массив, где $A[i]$ - удаленность точки от изнаальной позиции после i-й итерации."
   ]
  },
  {
   "cell_type": "code",
   "execution_count": 144,
   "metadata": {
    "scrolled": true
   },
   "outputs": [
    {
     "data": {
      "image/png": "[encoded data removed]",
      "text/plain": [
       "<Figure size 432x288 with 1 Axes>"
      ]
     },
     "metadata": {
      "needs_background": "light"
     },
     "output_type": "display_data"
    }
   ],
   "source": [
    "from matplotlib import pyplot\n",
    "from random import choice\n",
    "\n",
    "def get_distances(field, width, height, \n",
    "                  start_pos=get_available_cell(field, width, height),\n",
    "                  iter_number=1_000):\n",
    "    pos = start_pos.copy()\n",
    "    possible_movements = [\n",
    "        np.array([1, 1]),\n",
    "        np.array([1, -1]),\n",
    "        np.array([-1, 1]),\n",
    "        np.array([-1, -1]),\n",
    "        np.array([1, 0]),\n",
    "        np.array([0, 1]),\n",
    "        np.array([-1, 0]),\n",
    "        np.array([0, -1])\n",
    "    ]\n",
    "    \n",
    "    distances = []\n",
    "    for i in range(iter_number):\n",
    "        possible_positions = []\n",
    "        for vector in possible_movements:\n",
    "            try:\n",
    "                temp_pos = pos + vector\n",
    "                if (field[temp_pos[0]][temp_pos[1]] == 1).all():\n",
    "                    possible_positions.append(temp_pos)\n",
    "\n",
    "            except IndexError:\n",
    "                continue\n",
    "            \n",
    "        if not possible_ways:\n",
    "            continue\n",
    "            \n",
    "        pos = choice(np.array(possible_positions))\n",
    "        v = pos - start_pos\n",
    "        distances.append(v.dot(v) / (i + 1))\n",
    "        \n",
    "    return np.array(range(iter_number)), np.array(distances)\n",
    "\n",
    "field, width, height = bmp_to_array('resources/hexagon_maze.bmp')\n",
    "ox, oy = get_distances(field, width, height)\n",
    "    \n",
    "pyplot.plot(ox, oy)\n",
    "pyplot.show()"
   ]
  }
 ],
 "metadata": {
  "kernelspec": {
   "display_name": "Python 3",
   "language": "python",
   "name": "python3"
  },
  "language_info": {
   "codemirror_mode": {
    "name": "ipython",
    "version": 3
   },
   "file_extension": ".py",
   "mimetype": "text/x-python",
   "name": "python",
   "nbconvert_exporter": "python",
   "pygments_lexer": "ipython3",
   "version": "3.7.3"
  }
 },
 "nbformat": 4,
 "nbformat_minor": 2
}
